{
 "cells": [
  {
   "cell_type": "code",
   "execution_count": 4,
   "metadata": {},
   "outputs": [
    {
     "data": {
      "text/plain": [
       "False"
      ]
     },
     "execution_count": 4,
     "metadata": {},
     "output_type": "execute_result"
    }
   ],
   "source": [
    "class Node:\n",
    "    def __init__(self, item, next=None):\n",
    "        self.item = item\n",
    "        self.next = next\n",
    "\n",
    "class Stack:\n",
    "# код цього класу взятий з лекції (пані Тетяна дозволила)\n",
    "# https://colab.research.google.com/drive/1adMg2RQ1QK5rXodMUKVX1leAzQm3lboX\n",
    "    def __init__(self):\n",
    "        self.head = None\n",
    "\n",
    "    def is_empty(self):\n",
    "        return self.head is None\n",
    "\n",
    "    def push(self, item):\n",
    "        self.head = Node(item, self.head)\n",
    "\n",
    "    def pop(self):\n",
    "        item = self.head.item\n",
    "        self.head = self.head.next\n",
    "        return item\n",
    "\n",
    "    @property\n",
    "    def peek(self):\n",
    "        return self.head.item\n",
    "\n",
    "    def __len__(self):\n",
    "        count = 0\n",
    "        current = self.head\n",
    "        while current is not None:\n",
    "            count +=1\n",
    "            current = current.next\n",
    "        return count\n",
    "\n",
    "    def __str__(self):\n",
    "        s = ''\n",
    "        cur = self.head\n",
    "        while cur is not None:\n",
    "            s = str(cur.item) + ' ' +s\n",
    "            cur = cur.next\n",
    "        return 'bottom -> '+ s+'<- top'      \n",
    "\n",
    "\n",
    "class MyQueue:\n",
    "    def __init__(self):\n",
    "        self.stack_1 = Stack()\n",
    "        self.stack_2 = Stack()\n",
    "\n",
    "    def push(self, x):\n",
    "        self.stack_1.push(x)\n",
    "\n",
    "    def pop(self):\n",
    "        if self.stack_2.is_empty():\n",
    "            while not self.stack_1.is_empty():\n",
    "                self.stack_2.push(self.stack_1.pop())\n",
    "        return self.stack_2.pop()\n",
    "\n",
    "    def peek(self):\n",
    "        if self.stack_2.is_empty():\n",
    "            while not self.stack_1.is_empty():\n",
    "                self.stack_2.push(self.stack_1.pop())\n",
    "        return self.stack_2.peek\n",
    "\n",
    "    def empty(self):\n",
    "        return self.stack_1.is_empty() and self.stack_2.is_empty()\n",
    "\n",
    "# # Your MyQueue object will be instantiated and called as such:\n",
    "# obj = MyQueue()\n",
    "# obj.push(1)\n",
    "# obj.push(8)\n",
    "# param_2 = obj.pop()\n",
    "# param_3 = obj.peek()\n",
    "# param_3\n",
    "# param_4 = obj.empty()\n",
    "# param_4"
   ]
  }
 ],
 "metadata": {
  "kernelspec": {
   "display_name": "Python 3",
   "language": "python",
   "name": "python3"
  },
  "language_info": {
   "codemirror_mode": {
    "name": "ipython",
    "version": 3
   },
   "file_extension": ".py",
   "mimetype": "text/x-python",
   "name": "python",
   "nbconvert_exporter": "python",
   "pygments_lexer": "ipython3",
   "version": "3.11.5"
  }
 },
 "nbformat": 4,
 "nbformat_minor": 2
}
