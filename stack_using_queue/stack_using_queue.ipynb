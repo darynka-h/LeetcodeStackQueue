{
 "cells": [
  {
   "cell_type": "code",
   "execution_count": 31,
   "metadata": {},
   "outputs": [
    {
     "data": {
      "text/plain": [
       "False"
      ]
     },
     "execution_count": 31,
     "metadata": {},
     "output_type": "execute_result"
    }
   ],
   "source": [
    "class Node:\n",
    "    def __init__(self, data):\n",
    "        self.data = data\n",
    "        self.next = None\n",
    "\n",
    "class Queue:\n",
    "    def __init__(self):\n",
    "        self.head = None\n",
    "        self.tail = None\n",
    "\n",
    "    def is_empty(self):\n",
    "        return self.head is None\n",
    "\n",
    "    def push(self, item):\n",
    "        if self.head is None:\n",
    "            self.tail = Node(item)\n",
    "            self.head = self.tail\n",
    "        else:\n",
    "            self.tail.next = Node(item)\n",
    "            self.tail = self.tail.next\n",
    "\n",
    "    def pop(self):\n",
    "        if self.head:\n",
    "            item = self.head.data\n",
    "            self.head = self.head.next\n",
    "            return item\n",
    "\n",
    "    @property\n",
    "    def peek(self):\n",
    "        return self.head.data\n",
    "\n",
    "\n",
    "class MyStack:\n",
    "\n",
    "    def __init__(self):\n",
    "        self.q1 = Queue()\n",
    "        self.q2 = Queue()\n",
    "\n",
    "    def push(self, x):\n",
    "        self.q1.push(x)\n",
    "\n",
    "    def pop(self):\n",
    "        while self.q1.head.next is not None:\n",
    "            self.q2.push(self.q1.pop())\n",
    "        result = self.q1.pop()\n",
    "        self.q1, self.q2 = self.q2, self.q1\n",
    "        return result\n",
    "\n",
    "    def top(self):\n",
    "        while self.q1.head.next is not None:\n",
    "            self.q2.push(self.q1.pop())\n",
    "        result = self.q1.peek\n",
    "        self.q2.push(self.q1.pop())\n",
    "        self.q1, self.q2 = self.q2, self.q1\n",
    "        return result\n",
    "\n",
    "    def empty(self):\n",
    "        return self.q1.is_empty() and self.q2.is_empty()\n",
    "    \n",
    "\n",
    "# obj = MyStack()\n",
    "# obj.push(1)\n",
    "# obj.push(2)\n",
    "# obj.push(3)\n",
    "# obj.push(4)\n",
    "# obj.push(5)\n",
    "# param_2 = obj.pop()\n",
    "# param_2\n",
    "# param_3 = obj.top()\n",
    "# param_3\n",
    "# param_4 = obj.empty()\n",
    "# param_4"
   ]
  }
 ],
 "metadata": {
  "kernelspec": {
   "display_name": "Python 3",
   "language": "python",
   "name": "python3"
  },
  "language_info": {
   "codemirror_mode": {
    "name": "ipython",
    "version": 3
   },
   "file_extension": ".py",
   "mimetype": "text/x-python",
   "name": "python",
   "nbconvert_exporter": "python",
   "pygments_lexer": "ipython3",
   "version": "3.11.5"
  }
 },
 "nbformat": 4,
 "nbformat_minor": 2
}
