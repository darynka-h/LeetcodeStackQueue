{
 "cells": [
  {
   "cell_type": "code",
   "execution_count": 9,
   "metadata": {},
   "outputs": [],
   "source": [
    "from collections import deque\n",
    "class FreqStack:\n",
    "\n",
    "    def __init__(self):\n",
    "        self.queue = deque()\n",
    "        self.values = {}\n",
    "\n",
    "    def push(self, x):\n",
    "        self.queue.append(x)\n",
    "        if x not in self.values.keys():\n",
    "            self.values[x] = 1\n",
    "        else:\n",
    "            self.values[x] += 1\n",
    "\n",
    "    def pop(self):\n",
    "        max_value = max(self.values.values())\n",
    "        counter  = len(self.queue) - 1\n",
    "        while counter >= 0:\n",
    "            top = self.queue[counter ]\n",
    "            if self.values[top] == max_value:\n",
    "                self.values[top] = self.values[top] - 1\n",
    "                el = self.queue[counter]\n",
    "                self.queue.reverse()\n",
    "                self.queue.remove(el)\n",
    "                self.queue.reverse()\n",
    "                return el\n",
    "            counter -= 1\n",
    "\n",
    "# obj = FreqStack()\n",
    "# obj.push(5)\n",
    "# obj.push(5)\n",
    "# obj.push(5)\n",
    "# obj.push(7)\n",
    "# obj.push(8)\n",
    "# obj.push(8)\n",
    "# obj.push(8)\n",
    "# param_2 = obj.pop()\n",
    "# param_2"
   ]
  }
 ],
 "metadata": {
  "kernelspec": {
   "display_name": "Python 3",
   "language": "python",
   "name": "python3"
  },
  "language_info": {
   "codemirror_mode": {
    "name": "ipython",
    "version": 3
   },
   "file_extension": ".py",
   "mimetype": "text/x-python",
   "name": "python",
   "nbconvert_exporter": "python",
   "pygments_lexer": "ipython3",
   "version": "3.11.5"
  }
 },
 "nbformat": 4,
 "nbformat_minor": 2
}
